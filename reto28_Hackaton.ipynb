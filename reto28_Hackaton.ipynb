{
  "cells": [
    {
      "cell_type": "markdown",
      "metadata": {
        "id": "view-in-github",
        "colab_type": "text"
      },
      "source": [
        "<a href=\"https://colab.research.google.com/github/Yas12Hatsu/reto28_Hackaton/blob/main/reto28_Hackaton.ipynb\" target=\"_parent\"><img src=\"https://colab.research.google.com/assets/colab-badge.svg\" alt=\"Open In Colab\"/></a>"
      ]
    },
    {
      "cell_type": "code",
      "execution_count": null,
      "metadata": {
        "id": "QExK3pQ_QANI"
      },
      "outputs": [],
      "source": [
        "%%capture\n",
        "!pip install langchain pypdf openai chromadb tiktoken\n",
        "!pip install --quiet gradio"
      ]
    },
    {
      "cell_type": "markdown",
      "metadata": {
        "id": "EFFDh5MMRG_Y"
      },
      "source": [
        "Agrega el API KEY"
      ]
    },
    {
      "cell_type": "code",
      "execution_count": null,
      "metadata": {
        "colab": {
          "base_uri": "https://localhost:8080/"
        },
        "id": "z_0eHXcQQcgQ",
        "outputId": "bc81518b-a40d-40d4-d856-0c5678a94791"
      },
      "outputs": [
        {
          "name": "stdout",
          "output_type": "stream",
          "text": [
            "Agrega tu KEY de OpenIA: ··········\n"
          ]
        }
      ],
      "source": [
        "from getpass import getpass\n",
        "import os\n",
        "import gradio as gr\n",
        "import random\n",
        "\n",
        "OPENAI_API_KEY=getpass(\"Agrega tu KEY de OpenIA: \")\n",
        "os.environ[\"OPENAI_API_KEY\"]=OPENAI_API_KEY"
      ]
    },
    {
      "cell_type": "code",
      "execution_count": null,
      "metadata": {
        "colab": {
          "base_uri": "https://localhost:8080/"
        },
        "id": "3qHrinz9RNg_",
        "outputId": "5579e67f-552e-4cd4-9a85-6c3986eebdfa"
      },
      "outputs": [
        {
          "output_type": "stream",
          "name": "stdout",
          "text": [
            "documento1.pdf fue descargado con éxito.\n",
            "documento2.pdf fue descargado con éxito.\n",
            "documento3.pdf fue descargado con éxito.\n",
            "documento4.pdf fue descargado con éxito.\n",
            "documento5.pdf fue descargado con éxito.\n",
            "documento6.pdf fue descargado con éxito.\n",
            "documento7.pdf fue descargado con éxito.\n",
            "documento8.pdf fue descargado con éxito.\n",
            "documento9.pdf fue descargado con éxito.\n",
            "documento10.pdf fue descargado con éxito.\n",
            "documento11.pdf fue descargado con éxito.\n",
            "documento12.pdf fue descargado con éxito.\n",
            "documento13.pdf fue descargado con éxito.\n",
            "documento14.pdf fue descargado con éxito.\n",
            "documento15.pdf fue descargado con éxito.\n",
            "documento16.pdf fue descargado con éxito.\n",
            "documento17.pdf fue descargado con éxito.\n",
            "Contenido de pdf: \n",
            "\n"
          ]
        }
      ],
      "source": [
        "import requests\n",
        "from langchain.document_loaders import PyPDFLoader\n",
        "\n",
        "urls = [\n",
        "    #'https://www.srjosueaaron.com/wp-content/uploads/2023/10/introduccion_javascript_2caras.pdf',\n",
        "    #'https://www.srjosueaaron.com/wp-content/uploads/2023/10/requisitostramitetitulacion.pdf',\n",
        "    #'https://www.srjosueaaron.com/wp-content/uploads/2023/10/requisitosadmision.pdf',\n",
        "    #'https://www.srjosueaaron.com/wp-content/uploads/2023/10/reqtitulacion.pdf',\n",
        "    #'https://www.srjosueaaron.com/wp-content/uploads/2023/10/reglamentointernodelauttec2021.pdf',\n",
        "    #'https://www.srjosueaaron.com/wp-content/uploads/2023/10/reglamentodealumnosdelauttec.pdf',\n",
        "    #'https://www.srjosueaaron.com/wp-content/uploads/2023/10/programaanfitrion.pdf',\n",
        "    #'https://www.srjosueaaron.com/wp-content/uploads/2023/10/politicasparatutoria.pdf',\n",
        "    #'https://www.srjosueaaron.com/wp-content/uploads/2023/10/manualdecalidad.pdf',\n",
        "    #'https://www.srjosueaaron.com/wp-content/uploads/2023/10/gestionestadia.pdf',\n",
        "    #'https://www.srjosueaaron.com/wp-content/uploads/2023/10/equivalenciasreinscripcion.pdf',\n",
        "    #'https://www.srjosueaaron.com/wp-content/uploads/2023/10/eficienciadetitulacion.pdf',\n",
        "    #'https://www.srjosueaaron.com/wp-content/uploads/2023/10/admision.pdf',\n",
        "    #'https://www.srjosueaaron.com/wp-content/uploads/2023/10/SitioWeb.pdf',\n",
        "    #'https://github.com/dafnerojas/pdfs/blob/main/SitioWeb.pdf',\n",
        "    #'https://uttecamac.edomex.gob.mx/sites/uttecamac.edomex.gob.mx/files/files/PIDE-2020-2024.pdf',\n",
        "    #'https://www.srjosueaaron.com/wp-content/uploads/2023/10/PIDE.pdf',\n",
        "    'https://uttecamac.edomex.gob.mx/sites/uttecamac.edomex.gob.mx/files/files/PDFs/DPL/manual_general_organizacion.pdf',\n",
        "    'https://uttecamac.edomex.gob.mx/sites/uttecamac.edomex.gob.mx/files/files/TSU%20Administraci%C3%B3n%20%C3%A1rea%20Formulaci%C3%B3n%20y%20Evaluaci%C3%B3n%20de%20Proyectos.pdf',\n",
        "    'https://uttecamac.edomex.gob.mx/sites/uttecamac.edomex.gob.mx/files/files/TSU%20Procesos%20Industriales%20%C3%A1rea%20Manufactura.pdf',\n",
        "    'https://uttecamac.edomex.gob.mx/sites/uttecamac.edomex.gob.mx/files/files/TSU%20Nanotecnolog%C3%ADa%20%C3%A1rea%20Materiales.pdf',\n",
        "    'https://uttecamac.edomex.gob.mx/sites/uttecamac.edomex.gob.mx/files/files/TSU%20TI%20%C3%A1rea%20Infraestructura%20de%20Redes%20Digitales.pdf',\n",
        "    'https://uttecamac.edomex.gob.mx/sites/uttecamac.edomex.gob.mx/files/files/TSU%20TI%20%C3%A1rea%20Desarrollo%20de%20Software%20Multiplataforma.pdf',\n",
        "    'https://uttecamac.edomex.gob.mx/sites/uttecamac.edomex.gob.mx/files/files/TSU%20Energ%C3%ADas%20Renovables%20%C3%A1rea%20Calidad%20y%20Ahorro%20de%20energ%C3%ADa.pdf',\n",
        "    'https://uttecamac.edomex.gob.mx/sites/uttecamac.edomex.gob.mx/files/files/LIC%20Gesti%C3%B3n%20%20de%20Negocios%20y%20Proyectos.pdf',\n",
        "    'https://uttecamac.edomex.gob.mx/sites/uttecamac.edomex.gob.mx/files/files/ING%20Procesos%20y%20Operaciones%20Industriales.pdf',\n",
        "    'https://uttecamac.edomex.gob.mx/sites/uttecamac.edomex.gob.mx/files/files/TSU%20Mecatr%C3%B3nica%20%C3%A1rea%20Automatizaci%C3%B3n.pdf',\n",
        "    'https://uttecamac.edomex.gob.mx/sites/uttecamac.edomex.gob.mx/files/files/ING%20Nanotecnolog%C3%ADa.pdf',\n",
        "    'https://uttecamac.edomex.gob.mx/sites/uttecamac.edomex.gob.mx/files/files/ING%20Redes%20Inteligentes%20y%20Ciberseguridad.pdf',\n",
        "    'https://uttecamac.edomex.gob.mx/sites/uttecamac.edomex.gob.mx/files/files/ING%20Redes%20Inteligentes%20y%20Ciberseguridad.pdf',\n",
        "    'https://uttecamac.edomex.gob.mx/sites/uttecamac.edomex.gob.mx/files/files/TSU%20Qu%C3%ADmica%20%C3%A1rea%20Biotecnolog%C3%ADa.pdf',\n",
        "    'https://uttecamac.edomex.gob.mx/sites/uttecamac.edomex.gob.mx/files/files/ING%20Desarrollo%20y%20Gesti%C3%B3n%20de%20Software.pdf',\n",
        "    'https://uttecamac.edomex.gob.mx/sites/uttecamac.edomex.gob.mx/files/files/ING%20Energ%C3%ADas%20Renovables.pdf',\n",
        "    'https://uttecamac.edomex.gob.mx/sites/uttecamac.edomex.gob.mx/files/files/TSU%20Administraci%C3%B3n%20%C3%A1rea%20Capital%20Humano.pdf'\n",
        "\n",
        "]\n",
        "\n",
        "pdfdoc = []\n",
        "\n",
        "for i, url in enumerate(urls):\n",
        "  response = requests.get(url)\n",
        "  filename = f'documento{i+1}.pdf'\n",
        "  with open(filename, \"wb\") as f:\n",
        "    f.write(response.content)\n",
        "    print(f\"{filename} fue descargado con éxito.\")\n",
        "\n",
        "    loader = PyPDFLoader(filename)\n",
        "    data = loader.load()\n",
        "    pdfdoc.extend(data)\n",
        "\n",
        "print('Contenido de pdf: ')\n",
        "print()\n",
        "\n",
        "\n"
      ]
    },
    {
      "cell_type": "code",
      "execution_count": null,
      "metadata": {
        "colab": {
          "base_uri": "https://localhost:8080/"
        },
        "id": "UvTf1IjhSmRz",
        "outputId": "a13a9bda-0c1a-41ae-b9aa-0a65d8b259dc"
      },
      "outputs": [
        {
          "output_type": "execute_result",
          "data": {
            "text/plain": [
              "(list,\n",
              " 58,\n",
              " Document(page_content='Miércoles  17 de noviem bre de 2021                        Sección Primera Tomo: CCXII No. 94 \\n \\n \\n 8 La Universidad Tecn ológi ca de Tecámac se constituye en una Insti tución de educación superior con carreras profesionales innovadoras, de \\nalto nivel  de preparación teórico -práctico y con un modelo académico de vanguardia, con tecnología de punta que responde a las \\nnecesidades socia les y productivas de la zona geográfica donde se ubica.  \\nEl 24 de abril de 2017, se publicaron en el Periódico Oficial Gace ta del Gobierno reformas a la Constitución Política del Estado Libre y \\nSoberano de México; y el 30 de mayo de 2017 a la Ley Orgán ica d e la Administración Pública del Estado d e México; en esta última fecha \\ntambién se expide la Ley de Responsabilidades Admin istrativas del Estado de México y Municipios y la Ley del Sistema Anticorrupción del \\nEstado de México y Municipios, donde se esta blece  la figura del Órgano Interno de Control  como la unidad administrativa encargada de \\npromover, evaluar y fortalecer el buen  funcionamiento del control interno de los entes públicos, competente para aplicar las leyes en materia \\nde responsabilidades de l os se rvidores públicos, cuyos titulares depen den jerárquica y funcionalmente de la Secretaría de la Contraloría.  \\nEn este sentid o, se modifica el organigrama de la Universidad Tecnológica de Tecámac para cambiar la denominación de la Contraloría \\nInterna por  Órga no Interno de Control. Así, la estructur a de organización de la Universidad fue autorizada por la Secretaría de Finanzas e n \\nel mes de septiembre de 2018, la cual quedó integrada por las mismas 34 unidades administrativas.  \\nPor otra parte, el 10 de mayo  de 2 018 se publicó en el Periódico Oficial “ Gaceta del Gobierno” el Decreto Número 309, por el que se \\nreforman y adicionan div ersas disposiciones de la Ley Orgánica de la Administración Pública del Estado de México, la Ley de Acceso de las \\nMujeres a una V ida L ibre de Violencia del Estado de México y  la Ley de Igualdad de Trato y Oportunidades entre Mujeres y Hombres del \\nEstado de  México.  \\nAsí, el artículo 13 de la Ley Orgánica de la Administración Pública del Estado de México menciona que las Dependencias d el Ejecutivo y los \\nOrganismos Auxiliares debe rán conducir sus actividades bajo el principio de igualdad de género, en forma pro gramada y con base en las \\npolíticas, prioridades y restricciones que establezca el Gobierno del Estado; asimismo, promoverán que sus p lanes, programas y acciones \\nsean realiza dos con perspectiva de género y crearán unidades de Igualdad de Género y Erradicac ión de la Violencia.  \\nDerivado de dichas reformas jurídicas, el 28 de mayo de 2019 la Secretaría de Finanzas autoriza a la Univers idad Tecnológica de Tecámac \\nun nuevo organigr ama donde se cambia de denominación el Abogado General por Abogacía General e Igua ldad de Género.  \\n \\nII.  BASE LEGAL  \\n \\n− Constitución Política de los Estados Unidos Mexicanos.  \\nDiario Oficial, 5 de febrero de 1917, ref orma s y adiciones.  \\n− Constitución Política del  Estado Libre y Soberano de México.  \\nPeriódico Oficial “Gaceta del Gobierno”, 10, 14 y 17 de noviembre de 1917, reformas y adiciones.  \\n− Ley Reglamentaria del Artículo 5 Constitucional, relativo al ejercicio de las p rofesiones en la Ciudad de México.  \\nDiario Of icial de la Federación, 26 de mayo de 1945, reformas y adiciones.  \\n− Ley Federal del Trabajo.  \\nDiario Oficial de la Federación, 1 de abril de 1970, reformas y adiciones.  \\n− Ley para la Coordinación de la Educación Super ior. \\nDiario Oficial de la Federación, 29 de diciembre de 1978.  \\n− Ley de Planeación.  \\nDiario Oficial de la Federación, 5 de enero de 1983, reformas y adiciones.  \\n− Ley General de Salud.  \\nDiario Oficial de la Federación, 7 de febrero de 1984, reformas y adiciones.  \\n− Ley sobre el Escudo, la Bandera y el Himno N acionales.  \\nDiario Oficial de la Federación, 8 de febrero de  1984, reformas y adiciones.  \\n− Ley Federal de Protección a  la Propiedad Industrial.  \\nDiario Oficial de la Federación, 01 de ju lio de 2020 . \\n− Ley Federal del D erecho de Autor.  \\nDiario Oficial de la Federa ción, 24 de diciembre de 1996, reformas y adiciones.  \\n− Ley de Adquisiciones, Arrendamientos y Servicios del Sector Público.  \\nDiario Oficial de la Federación, 4 de enero de 2000, reformas y adiciones.  \\n− Ley de Obras Pú blicas y Servicios Relacionados con las Mism as. \\nDiario Oficial de la Federación, 4 de enero de 2000, reformas y adiciones.  \\n− Ley de Ciencia y Tecnología.  \\nDiario Oficial de la Federación, 5 de junio de 2002, reformas y adiciones.  \\n− Ley General de Bienes Naciona les. \\nDiario Oficial de la Federación, 20 de mayo de 2004, reformas y adiciones.  \\n− Ley Fe deral de Presupuesto y Responsabilidad Hacendaria.  \\nDiario Oficial de la Federación, 30 de marzo de 2006, reformas y adiciones.  ', metadata={'source': 'documento1.pdf', 'page': 3}))"
            ]
          },
          "metadata": {},
          "execution_count": 13
        }
      ],
      "source": [
        "type(pdfdoc), len(pdfdoc), pdfdoc[3]"
      ]
    },
    {
      "cell_type": "markdown",
      "metadata": {
        "id": "4OOauyuaSvsT"
      },
      "source": [
        "Text Splitter del pdf, despues de la descarga y antes de los embeddings"
      ]
    },
    {
      "cell_type": "code",
      "execution_count": null,
      "metadata": {
        "id": "paTvB9KVSxf_"
      },
      "outputs": [],
      "source": [
        "from langchain.text_splitter import RecursiveCharacterTextSplitter\n",
        "\n",
        "text_splitter = RecursiveCharacterTextSplitter(\n",
        "    chunk_size = 400,\n",
        "    chunk_overlap = 200,\n",
        "    length_function = len\n",
        ")\n",
        "\n",
        "documents = text_splitter.split_documents(pdfdoc)"
      ]
    },
    {
      "cell_type": "code",
      "execution_count": null,
      "metadata": {
        "colab": {
          "base_uri": "https://localhost:8080/"
        },
        "id": "JNirI_hUTR9c",
        "outputId": "124a409d-3833-4549-e693-3674620c9129"
      },
      "outputs": [
        {
          "output_type": "execute_result",
          "data": {
            "text/plain": [
              "(1619,\n",
              " Document(page_content='•Secretaría Particular  ................................ ................................ ................................ ................................ ................................ ....................', metadata={'source': 'documento1.pdf', 'page': 0}))"
            ]
          },
          "metadata": {},
          "execution_count": 15
        }
      ],
      "source": [
        "len(documents), documents[10]"
      ]
    },
    {
      "cell_type": "markdown",
      "metadata": {
        "id": "XMhHs4KdTWeh"
      },
      "source": [
        "Base de datos vectorial"
      ]
    },
    {
      "cell_type": "code",
      "execution_count": null,
      "metadata": {
        "id": "ncRy7LzBTYVm"
      },
      "outputs": [],
      "source": [
        "from langchain.embeddings import OpenAIEmbeddings\n",
        "from langchain.vectorstores import Chroma\n",
        "\n",
        "embeddings = OpenAIEmbeddings(model = \"text-embedding-ada-002\")\n",
        "\n",
        "vectorstore = Chroma.from_documents(\n",
        "    documents = documents,\n",
        "    embedding = embeddings\n",
        ")\n",
        "\n",
        "retriever = vectorstore.as_retriever(\n",
        "    search_kwargs = {\"k\" : 2}\n",
        ")"
      ]
    },
    {
      "cell_type": "markdown",
      "metadata": {
        "id": "FA7xso-OV_d0"
      },
      "source": [
        "Modelos de chat y cadenas para consultar de infromación"
      ]
    },
    {
      "cell_type": "code",
      "execution_count": null,
      "metadata": {
        "id": "LwhD71c0WH-b"
      },
      "outputs": [],
      "source": [
        "from langchain.chat_models import ChatOpenAI\n",
        "from langchain.chains import RetrievalQA\n",
        "\n",
        "chat = ChatOpenAI(\n",
        "    openai_api_key = OPENAI_API_KEY,\n",
        "    model_name = \"gpt-3.5-turbo\",\n",
        "    temperature = 0.0,\n",
        ")\n",
        "\n",
        "qa_chain = RetrievalQA.from_chain_type(\n",
        "    llm = chat,\n",
        "    chain_type = \"stuff\",\n",
        "    retriever = retriever,\n",
        ")"
      ]
    },
    {
      "cell_type": "code",
      "execution_count": null,
      "metadata": {
        "colab": {
          "base_uri": "https://localhost:8080/"
        },
        "id": "1PPJ-kyQdTS2",
        "outputId": "4b1a2a7f-b736-422c-c3d4-f5a78c696d73"
      },
      "outputs": [
        {
          "name": "stdout",
          "output_type": "stream",
          "text": [
            "LechuzoBot al rescate. ¿En qué puedo ser de utilidad?salir\n"
          ]
        }
      ],
      "source": [
        "#from langchain.memory import ConversationBufferMemory  # Importa ConversationBufferMemory\n",
        "from langchain.chains.conversation.memory import ConversationBufferMemory\n",
        "from langchain.chains import ConversationChain\n",
        "\n",
        "# Crea una instancia de ConversationBufferMemory para mantener un registro de conversaciones\n",
        "memory = ConversationBufferMemory()\n",
        "\n",
        "qa_chain = RetrievalQA.from_chain_type(\n",
        "    llm=chat,\n",
        "    chain_type=\"stuff\",\n",
        "    retriever=retriever,\n",
        "    # Pasa la instancia de memoria como argumento\n",
        "    memory=memory\n",
        ")\n",
        "\n",
        "# Crea un diccionario para mantener un registro de conversaciones pasadas\n",
        "conversations = {}\n",
        "\n",
        "while True:\n",
        "    user_query = input(\"LechuzoBot al rescate. ¿En qué puedo ser de utilidad?\")\n",
        "    if user_query.lower() == 'salir':\n",
        "        break\n",
        "\n",
        "    # Usa el modelo de conversación para obtener respuestas\n",
        "    response = qa_chain.run(user_query)\n",
        "\n",
        "    # Agrega la conversación al diccionario\n",
        "    conversations[user_query] = response\n",
        "\n",
        "    print(\"Respuesta:\", response)"
      ]
    },
    {
      "cell_type": "code",
      "execution_count": 53,
      "metadata": {
        "colab": {
          "base_uri": "https://localhost:8080/",
          "height": 626
        },
        "id": "t974M_0CdmvX",
        "outputId": "2f3c7c6d-86e4-49ce-b3ba-3800d3852773"
      },
      "outputs": [
        {
          "output_type": "stream",
          "name": "stdout",
          "text": [
            "Setting queue=True in a Colab notebook requires sharing enabled. Setting `share=True` (you can turn this off by setting `share=False` in `launch()` explicitly).\n",
            "\n",
            "Colab notebook detected. To show errors in colab notebook, set debug=True in launch()\n",
            "Running on public URL: https://c18f26f53ee11943e7.gradio.live\n",
            "\n",
            "This share link expires in 72 hours. For free permanent hosting and GPU upgrades, run `gradio deploy` from Terminal to deploy to Spaces (https://huggingface.co/spaces)\n"
          ]
        },
        {
          "output_type": "display_data",
          "data": {
            "text/plain": [
              "<IPython.core.display.HTML object>"
            ],
            "text/html": [
              "<div><iframe src=\"https://c18f26f53ee11943e7.gradio.live\" width=\"100%\" height=\"500\" allow=\"autoplay; camera; microphone; clipboard-read; clipboard-write;\" frameborder=\"0\" allowfullscreen></iframe></div>"
            ]
          },
          "metadata": {}
        },
        {
          "output_type": "execute_result",
          "data": {
            "text/plain": []
          },
          "metadata": {},
          "execution_count": 53
        }
      ],
      "source": [
        "def chat_with_model(question):\n",
        "    response = qa_chain.run(question)\n",
        "    return response\n",
        "\n",
        "# Define componentes personalizados con etiquetas\n",
        "input_component = gr.Textbox(label=\"Escribe tu pregunta aquí\", placeholder=\"Introduce tu pregunta aquí\")\n",
        "output_component = gr.Textbox(label=\"Respuesta\", placeholder=\"La respuesta aparecerá aquí\")\n",
        "\n",
        "# Crea la interfaz de Gradio con los componentes personalizados\n",
        "iface = gr.Interface(\n",
        "    fn=chat_with_model,\n",
        "    inputs=input_component,\n",
        "    outputs=output_component,\n",
        "    live=True,\n",
        "    title=\"Bienvenido a LechuzoBot\",\n",
        "    description=\"¿En qué puedo ayudarte hoy?\",\n",
        ")\n",
        "\n",
        "# Lanza la interfaz Gradio\n",
        "iface.launch()"
      ]
    },
    {
      "cell_type": "markdown",
      "source": [
        "**A PARTIR DE AQUI HASTA ABAJO ES PRUEBA** LO DE ARRIBA FUNCIONA CHIDO XD\n"
      ],
      "metadata": {
        "id": "biL7Tz0zLTWS"
      }
    },
    {
      "cell_type": "code",
      "source": [
        "import gradio as gr\n",
        "\n",
        "# Aquí incluye tu código existente que define y configura tu chatbot\n",
        "\n",
        "def chat_with_model(question):\n",
        "    # Aquí, utiliza tu código existente para obtener la respuesta del modelo\n",
        "    response = qa_chain.run(question)\n",
        "    return response\n",
        "\n",
        "input_component = gr.Textbox(lines=2, label=\"Usuario\", placeholder=\"Escribe aquí...\")\n",
        "output_component = gr.Textbox(lines=2, label=\"LechuzoBot\", placeholder=\"La respuesta aparecerá aquí...\")\n",
        "\n",
        "iface = gr.Interface(\n",
        "    fn=chat_with_model,\n",
        "    inputs=input_component,\n",
        "    outputs=output_component,\n",
        "    title=\"LechuzoBot\",\n",
        "    description=\"¡LechuzoBot al rescate! ¿En qué puedo ser de utilidad hoy?\",\n",
        "    allow_screenshot=True,\n",
        ")\n",
        "\n",
        "iface.launch()\n"
      ],
      "metadata": {
        "colab": {
          "base_uri": "https://localhost:8080/",
          "height": 383
        },
        "id": "7IJiaUgpQoRU",
        "outputId": "4ebe8428-6636-462d-b5f3-b9ffdfa3e500"
      },
      "execution_count": null,
      "outputs": [
        {
          "output_type": "error",
          "ename": "ModuleNotFoundError",
          "evalue": "ignored",
          "traceback": [
            "\u001b[0;31m---------------------------------------------------------------------------\u001b[0m",
            "\u001b[0;31mModuleNotFoundError\u001b[0m                       Traceback (most recent call last)",
            "\u001b[0;32m<ipython-input-1-90e45005e1d1>\u001b[0m in \u001b[0;36m<cell line: 1>\u001b[0;34m()\u001b[0m\n\u001b[0;32m----> 1\u001b[0;31m \u001b[0;32mimport\u001b[0m \u001b[0mgradio\u001b[0m \u001b[0;32mas\u001b[0m \u001b[0mgr\u001b[0m\u001b[0;34m\u001b[0m\u001b[0;34m\u001b[0m\u001b[0m\n\u001b[0m\u001b[1;32m      2\u001b[0m \u001b[0;34m\u001b[0m\u001b[0m\n\u001b[1;32m      3\u001b[0m \u001b[0;31m# Aquí incluye tu código existente que define y configura tu chatbot\u001b[0m\u001b[0;34m\u001b[0m\u001b[0;34m\u001b[0m\u001b[0m\n\u001b[1;32m      4\u001b[0m \u001b[0;34m\u001b[0m\u001b[0m\n\u001b[1;32m      5\u001b[0m \u001b[0;32mdef\u001b[0m \u001b[0mchat_with_model\u001b[0m\u001b[0;34m(\u001b[0m\u001b[0mquestion\u001b[0m\u001b[0;34m)\u001b[0m\u001b[0;34m:\u001b[0m\u001b[0;34m\u001b[0m\u001b[0;34m\u001b[0m\u001b[0m\n",
            "\u001b[0;31mModuleNotFoundError\u001b[0m: No module named 'gradio'",
            "",
            "\u001b[0;31m---------------------------------------------------------------------------\u001b[0;32m\nNOTE: If your import is failing due to a missing package, you can\nmanually install dependencies using either !pip or !apt.\n\nTo view examples of installing some common dependencies, click the\n\"Open Examples\" button below.\n\u001b[0;31m---------------------------------------------------------------------------\u001b[0m\n"
          ],
          "errorDetails": {
            "actions": [
              {
                "action": "open_url",
                "actionText": "Open Examples",
                "url": "/notebooks/snippets/importing_libraries.ipynb"
              }
            ]
          }
        }
      ]
    },
    {
      "cell_type": "code",
      "source": [
        "import random\n",
        "\n",
        "def chat_with_model(message, history):\n",
        "    # Consulta la información de los documentos PDF almacenados en 'documents'\n",
        "    response = generate_response_from_documents(message, documents)\n",
        "\n",
        "    # Si no se encuentra información en los documentos, utiliza el modelo de lenguaje.\n",
        "    if response == \"No se encontró información relevante en los documentos.\":\n",
        "        # Aquí, utiliza tu código existente para obtener la respuesta del modelo\n",
        "        model_response = qa_chain.run(message)\n",
        "        response = model_response  # Puedes ajustar cómo combinas ambas respuestas si es necesario\n",
        "\n",
        "    return response\n",
        "\n",
        "# Función para generar respuestas basadas en la información de los documentos PDF\n",
        "def generate_response_from_documents(message, documents):\n",
        "    # Tokeniza el mensaje del usuario para realizar una búsqueda más precisa\n",
        "    user_tokens = message.split()\n",
        "\n",
        "    # Inicializa una lista para almacenar respuestas encontradas\n",
        "    found_responses = []\n",
        "\n",
        "    # Itera sobre los documentos\n",
        "    for doc_index, document in enumerate(documents):\n",
        "        for page_index, page_content in enumerate(document):\n",
        "            # Comprueba si alguna palabra del mensaje del usuario está en la página actual\n",
        "            if any(keyword in page_content for keyword in user_tokens):\n",
        "                found_responses.append({\n",
        "                    \"source\": f\"documento{doc_index + 1}.pdf\",\n",
        "                    \"page\": page_index,\n",
        "                    \"content\": page_content\n",
        "                })\n",
        "\n",
        "    # Si se encontraron respuestas, elige una al azar.\n",
        "    if found_responses:\n",
        "        response = random.choice(found_responses)\n",
        "        return f\"Encontré información en {response['source']}, página {response['page']}:\\n{response['content']}\"\n",
        "    else:\n",
        "        return \"No se encontró información relevante en los documentos.\"\n",
        "\n",
        "\n",
        "# Crea la interfaz Gradio con la función chat_with_model y los mismos componentes y configuraciones\n",
        "gr.ChatInterface(\n",
        "    chat_with_model,\n",
        "    chatbot=gr.Chatbot(height=300),\n",
        "    textbox=gr.Textbox(placeholder=\"Hazme una pregunta\", container=False, scale=7),\n",
        "    title=\"LechuzoBot\",\n",
        "    description=\"En que puedo ayudarte el dia de hoy?\",\n",
        "    theme=\"soft\",\n",
        "    examples=[\"Que es la Universidad Tecnologica de Tecamac?\", \"Cuales son sus ofertas educativas?\", \"Numero telefonico donde puedo comunicarme\"],\n",
        "    cache_examples=True,\n",
        "    retry_btn=None,\n",
        "    undo_btn=\"Eliminar respuesta anterior\",\n",
        "    clear_btn=\"Limpiar\",\n",
        ").launch()"
      ],
      "metadata": {
        "colab": {
          "base_uri": "https://localhost:8080/",
          "height": 695
        },
        "id": "xdCDOGRg5OHT",
        "outputId": "7dd68e1e-cca1-49c3-aab1-bc466c602727"
      },
      "execution_count": 55,
      "outputs": [
        {
          "output_type": "stream",
          "name": "stdout",
          "text": [
            "Caching examples at: '/content/gradio_cached_examples/475'\n",
            "Caching example 1/3\n",
            "Caching example 2/3\n",
            "Caching example 3/3\n",
            "Setting queue=True in a Colab notebook requires sharing enabled. Setting `share=True` (you can turn this off by setting `share=False` in `launch()` explicitly).\n",
            "\n",
            "Colab notebook detected. To show errors in colab notebook, set debug=True in launch()\n",
            "Running on public URL: https://5a8ed5921acd713ab7.gradio.live\n",
            "\n",
            "This share link expires in 72 hours. For free permanent hosting and GPU upgrades, run `gradio deploy` from Terminal to deploy to Spaces (https://huggingface.co/spaces)\n"
          ]
        },
        {
          "output_type": "display_data",
          "data": {
            "text/plain": [
              "<IPython.core.display.HTML object>"
            ],
            "text/html": [
              "<div><iframe src=\"https://5a8ed5921acd713ab7.gradio.live\" width=\"100%\" height=\"500\" allow=\"autoplay; camera; microphone; clipboard-read; clipboard-write;\" frameborder=\"0\" allowfullscreen></iframe></div>"
            ]
          },
          "metadata": {}
        },
        {
          "output_type": "execute_result",
          "data": {
            "text/plain": []
          },
          "metadata": {},
          "execution_count": 55
        }
      ]
    },
    {
      "cell_type": "code",
      "execution_count": null,
      "metadata": {
        "colab": {
          "base_uri": "https://localhost:8080/",
          "height": 87
        },
        "id": "kub70xFqXCsO",
        "outputId": "a74c4ba6-5230-4b94-9089-4c2cf57e2a6c"
      },
      "outputs": [
        {
          "data": {
            "application/vnd.google.colaboratory.intrinsic+json": {
              "type": "string"
            },
            "text/plain": [
              "'En la Universidad Tecnológica de Tecámac, hay un total de 6 programas educativos de nivel 5A relacionados con el área de ingeniería. Los programas son:\\n\\n1. Ingeniería en Biotecnología\\n2. Ingeniería en Energías Renovables\\n3. Ingeniería en Gestión de Proyectos\\n4. Ingeniería en Mantenimiento Industrial\\n5. Ingeniería en Mecatrónica\\n6. Ingeniería en Nanotecnología\\n\\nSí, existe el programa educativo de Ingeniería en Tecnologías de la Información y Comunicación en la Universidad Tecnológica de Tecámac.'"
            ]
          },
          "execution_count": 20,
          "metadata": {},
          "output_type": "execute_result"
        }
      ],
      "source": [
        "#query = \"¿Cuántos programas educativos de nivel 5A están relacionados con el área de ingeniería en la Universidad Tecnológica de Tecámac? '¿Cuáles son?, ¿Existe Ingeniería en Tecnologías de la Información?\"\n",
        "#qa_chain.run(query)"
      ]
    }
  ],
  "metadata": {
    "colab": {
      "provenance": [],
      "include_colab_link": true
    },
    "kernelspec": {
      "display_name": "Python 3",
      "name": "python3"
    },
    "language_info": {
      "name": "python"
    }
  },
  "nbformat": 4,
  "nbformat_minor": 0
}
{
  "cells": [
    {
      "cell_type": "markdown",
      "metadata": {
        "id": "view-in-github",
        "colab_type": "text"
      },
      "source": [
        "<a href=\"https://colab.research.google.com/github/Yas12Hatsu/reto28_Hackaton/blob/main/reto28_Hackaton.ipynb\" target=\"_parent\"><img src=\"https://colab.research.google.com/assets/colab-badge.svg\" alt=\"Open In Colab\"/></a>"
      ]
    },
    {
      "cell_type": "code",
      "execution_count": null,
      "metadata": {
        "id": "QExK3pQ_QANI"
      },
      "outputs": [],
      "source": [
        "%%capture\n",
        "!pip install langchain pypdf openai chromadb tiktoken"
      ]
    },
    {
      "cell_type": "markdown",
      "metadata": {
        "id": "EFFDh5MMRG_Y"
      },
      "source": [
        "Agrega el API KEY"
      ]
    },
    {
      "cell_type": "code",
      "execution_count": null,
      "metadata": {
        "colab": {
          "base_uri": "https://localhost:8080/"
        },
        "id": "z_0eHXcQQcgQ",
        "outputId": "8aaa00b7-64f6-4b28-fd4e-b4872654579b"
      },
      "outputs": [
        {
          "name": "stdout",
          "output_type": "stream",
          "text": [
            "Agrega tu KEY de OpenIA: ··········\n"
          ]
        }
      ],
      "source": [
        "from getpass import getpass\n",
        "import os\n",
        "\n",
        "OPENAI_API_KEY=getpass(\"Agrega tu KEY de OpenIA: \")\n",
        "os.environ[\"OPENAI_API_KEY\"]=OPENAI_API_KEY"
      ]
    },
    {
      "cell_type": "code",
      "execution_count": null,
      "metadata": {
        "colab": {
          "base_uri": "https://localhost:8080/"
        },
        "id": "3qHrinz9RNg_",
        "outputId": "d231c44c-f097-46c3-9540-f38165cb091b"
      },
      "outputs": [
        {
          "output_type": "stream",
          "name": "stdout",
          "text": [
            "paper1.pdf fue descargado con éxito.\n",
            "Contenido de pdf: \n",
            "\n"
          ]
        }
      ],
      "source": [
        "import requests\n",
        "from langchain.document_loaders import PyPDFLoader\n",
        "\n",
        "urls = [\n",
        "    'https://uttecamac.edomex.gob.mx/sites/uttecamac.edomex.gob.mx/files/files/PIDE-2020-2024.pdf',\n",
        "]\n",
        "\n",
        "pdfdoc = []\n",
        "\n",
        "for i, url in enumerate(urls):\n",
        "  response = requests.get(url)\n",
        "  filename = f'paper{i+1}.pdf'\n",
        "  with open(filename, \"wb\") as f:\n",
        "    f.write(response.content)\n",
        "    print(f\"{filename} fue descargado con éxito.\")\n",
        "\n",
        "    loader = PyPDFLoader(filename)\n",
        "    data = loader.load()\n",
        "    pdfdoc.extend(data)\n",
        "\n",
        "print('Contenido de pdf: ')\n",
        "print()\n"
      ]
    },
    {
      "cell_type": "code",
      "execution_count": null,
      "metadata": {
        "colab": {
          "base_uri": "https://localhost:8080/"
        },
        "id": "UvTf1IjhSmRz",
        "outputId": "a8ce67bd-4994-4b54-eb26-eede2b832e0a"
      },
      "outputs": [
        {
          "output_type": "execute_result",
          "data": {
            "text/plain": [
              "(list,\n",
              " 187,\n",
              " Document(page_content='UNIVERSIDAD  TECNOLÓGICA  DE TECÁMAC  \\n4 PROGRAMA  INSTITUCIONAL  DE DESARROLLO  2020 - 2024   \\n  \\nREPRESENTANTES  DEL SECTOR  PRODUCTIVO  \\n \\n \\nQ.F.B.  José  Raúl Flores  Fletes  \\nDirector  General  Biograft  de México  S.A de C.V. \\n \\n \\nLcdo.  Mauricio  Núñez  Avendaño  \\nPresidente  de COPARMEX  Oriente  del Estado  de México  \\n \\n \\n \\n \\nREPRESENTANTE  DE LA SECRETARÍA  DE LA CONTRALORÍA  \\n \\n \\nTITULAR  SUPLENTE  \\n \\nC.P. Emilio  Eduardo  Ruiz  Nonato  \\nDirector de Control y Evaluación “A -I” de la  \\nSecretaría  de Contraloría   \\nC.P. Joel  Mora  López  \\nTitular del Órgano Interno de Control de la  \\nUniversidad  Tecnológica  de Tecámac  \\n \\n \\n \\nSECRETARIO  \\n \\n \\n \\nM. en C. Rafael  Adolfo  Núñez  González  \\nRector  de la  \\nUniversidad  Tecnológica  de Tecámac  ', metadata={'source': 'paper1.pdf', 'page': 3}))"
            ]
          },
          "metadata": {},
          "execution_count": 15
        }
      ],
      "source": [
        "type(pdfdoc), len(pdfdoc), pdfdoc[3]"
      ]
    },
    {
      "cell_type": "markdown",
      "metadata": {
        "id": "4OOauyuaSvsT"
      },
      "source": [
        "Split de los documentos"
      ]
    },
    {
      "cell_type": "code",
      "execution_count": null,
      "metadata": {
        "id": "paTvB9KVSxf_"
      },
      "outputs": [],
      "source": [
        "from langchain.text_splitter import RecursiveCharacterTextSplitter\n",
        "\n",
        "text_splitter = RecursiveCharacterTextSplitter(\n",
        "    chunk_size = 1500,\n",
        "    chunk_overlap = 200,\n",
        "    length_function = len\n",
        ")\n",
        "\n",
        "documents = text_splitter.split_documents(pdfdoc)"
      ]
    },
    {
      "cell_type": "code",
      "execution_count": null,
      "metadata": {
        "id": "JNirI_hUTR9c",
        "colab": {
          "base_uri": "https://localhost:8080/"
        },
        "outputId": "4991310d-4dd9-49ea-8959-07036b6ae9cf"
      },
      "outputs": [
        {
          "output_type": "execute_result",
          "data": {
            "text/plain": [
              "(329,\n",
              " Document(page_content='UNIVERSIDAD  TECNOLÓGICA  DE TECÁMAC  \\n9 PROGRAMA  INSTITUCIONAL  DE DESARROLLO  2020 - 2024   \\n  \\nPRESENTACIÓN  \\n \\nEl Programa  Institucional  de Desarrollo  2020 -2024,  fue elaborado  con entusiasmo  al \\ninterior  de la Universidad  Tecnológica  de Tecámac,  como  un ejercicio  de planeación  \\nestratégica y participativa a mediano plazo, contiene un conjunto de políticas, acciones  \\nestratégicas y diferentes procesos administrativos para orientar el desarrollo armónico de  \\nlas funciones sustantivas que realizan las diferentes áreas y  las buenas prácticas de otras  \\nuniversidades,  proponiendo panoramas  deseables y  posibles  de alcanzar.  \\n \\nEn este ejercicio de planeación estratégica de la institución se establecieron objetivos,  \\nmetas,  acciones  estratégicas,  prioridades  y se fijaron  responsabilidades  y tiempos  de \\nejecución, además de d ar seguimiento a todas las acciones emprendidas y evaluar los  \\nresultados periódicamente a través de la medición de los indicadores institucionales, a  \\nefecto de ofrecer un servicio pertinente y de alta calidad a la comunidad universitaria,  \\nsirviendo  todo el lo de base para  la rendición  de cuentas.  \\n \\nEl Programa  Institucional  de Desarrollo  2020 -2024, se  integra  por doce  apartados:  \\n1. Introducción  \\n2. Marco  de referencia:  en el cual se describe  de manera  global  el contexto  \\nsocioeconómico en  que se encuentra  ubicada la  UTTEC.  \\n2.1 Descripción  del Entorno.', metadata={'source': 'paper1.pdf', 'page': 8}))"
            ]
          },
          "metadata": {},
          "execution_count": 17
        }
      ],
      "source": [
        "len(documents), documents[10]"
      ]
    },
    {
      "cell_type": "markdown",
      "metadata": {
        "id": "XMhHs4KdTWeh"
      },
      "source": [
        "Base de datos vectorial"
      ]
    },
    {
      "cell_type": "code",
      "execution_count": null,
      "metadata": {
        "id": "ncRy7LzBTYVm"
      },
      "outputs": [],
      "source": [
        "from langchain.embeddings import OpenAIEmbeddings\n",
        "from langchain.vectorstores import Chroma\n",
        "\n",
        "embeddings = OpenAIEmbeddings(model = \"text-embedding-ada-002\")\n",
        "\n",
        "vectorstore = Chroma.from_documents(\n",
        "    documents = documents,\n",
        "    embedding = embeddings\n",
        ")\n",
        "\n",
        "retriever = vectorstore.as_retriever(\n",
        "    search_kwargs = {\"k\" : 2}\n",
        ")"
      ]
    },
    {
      "cell_type": "markdown",
      "metadata": {
        "id": "FA7xso-OV_d0"
      },
      "source": [
        "Modelos de chat y cadenas para consultar de infromación"
      ]
    },
    {
      "cell_type": "code",
      "execution_count": null,
      "metadata": {
        "id": "LwhD71c0WH-b"
      },
      "outputs": [],
      "source": [
        "from langchain.chat_models import ChatOpenAI\n",
        "from langchain.chains import RetrievalQA\n",
        "\n",
        "chat = ChatOpenAI(\n",
        "    openai_api_key = OPENAI_API_KEY,\n",
        "    model_name = \"gpt-3.5-turbo\",\n",
        "    temperature = 0.0,\n",
        ")\n",
        "\n",
        "qa_chain = RetrievalQA.from_chain_type(\n",
        "    llm = chat,\n",
        "    chain_type = \"stuff\",\n",
        "    retriever = retriever,\n",
        ")"
      ]
    },
    {
      "cell_type": "code",
      "execution_count": null,
      "metadata": {
        "id": "kub70xFqXCsO",
        "colab": {
          "base_uri": "https://localhost:8080/",
          "height": 87
        },
        "outputId": "a74c4ba6-5230-4b94-9089-4c2cf57e2a6c"
      },
      "outputs": [
        {
          "output_type": "execute_result",
          "data": {
            "text/plain": [
              "'En la Universidad Tecnológica de Tecámac, hay un total de 6 programas educativos de nivel 5A relacionados con el área de ingeniería. Los programas son:\\n\\n1. Ingeniería en Biotecnología\\n2. Ingeniería en Energías Renovables\\n3. Ingeniería en Gestión de Proyectos\\n4. Ingeniería en Mantenimiento Industrial\\n5. Ingeniería en Mecatrónica\\n6. Ingeniería en Nanotecnología\\n\\nSí, existe el programa educativo de Ingeniería en Tecnologías de la Información y Comunicación en la Universidad Tecnológica de Tecámac.'"
            ],
            "application/vnd.google.colaboratory.intrinsic+json": {
              "type": "string"
            }
          },
          "metadata": {},
          "execution_count": 20
        }
      ],
      "source": [
        "query = \"¿Cuántos programas educativos de nivel 5A están relacionados con el área de ingeniería en la Universidad Tecnológica de Tecámac? '¿Cuáles son?, ¿Existe Ingeniería en Tecnologías de la Información?\"\n",
        "qa_chain.run(query)"
      ]
    }
  ],
  "metadata": {
    "colab": {
      "provenance": [],
      "include_colab_link": true
    },
    "kernelspec": {
      "display_name": "Python 3",
      "name": "python3"
    },
    "language_info": {
      "name": "python"
    }
  },
  "nbformat": 4,
  "nbformat_minor": 0
}